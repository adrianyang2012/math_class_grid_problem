{
  "nbformat": 4,
  "nbformat_minor": 0,
  "metadata": {
    "colab": {
      "private_outputs": true,
      "provenance": [],
      "authorship_tag": "ABX9TyPyGOVIgzwk2R5zTEqWrR+r",
      "include_colab_link": true
    },
    "kernelspec": {
      "name": "python3",
      "display_name": "Python 3"
    },
    "language_info": {
      "name": "python"
    }
  },
  "cells": [
    {
      "cell_type": "markdown",
      "metadata": {
        "id": "view-in-github",
        "colab_type": "text"
      },
      "source": [
        "<a href=\"https://colab.research.google.com/github/adrianyang2012/math_class_grid_problem/blob/main/math_class_grid_problem.ipynb\" target=\"_parent\"><img src=\"https://colab.research.google.com/assets/colab-badge.svg\" alt=\"Open In Colab\"/></a>"
      ]
    },
    {
      "cell_type": "code",
      "execution_count": null,
      "metadata": {
        "id": "cqWNqxLTrHeQ"
      },
      "outputs": [],
      "source": [
        "import math\n",
        "import matplotlib.pyplot as plt\n",
        "\n",
        "def generate_square_numbers(how_much):\n",
        "  list_of_squares = []\n",
        "  for i in range(1,how_much+1):\n",
        "    list_of_squares.append(i*i)\n",
        "  return list_of_squares\n",
        "\n",
        "def check_square(n):\n",
        "  if math.sqrt(n)%1 == 0:\n",
        "    return 'yes'\n",
        "  else:\n",
        "    return 'no'\n",
        "\n",
        "def check_grid(num):\n",
        "  square_thing = int(math.sqrt(num))+1\n",
        "  square_list = generate_square_numbers(square_thing)\n",
        "  if check_square(num) == 'yes':\n",
        "    return True,(math.sqrt(num),math.sqrt(num))\n",
        "  for i in range(0,len(square_list)):\n",
        "    for j in range(0,len(square_list)):\n",
        "      if square_list[i] + square_list[j] == num:\n",
        "        return True,(math.sqrt(square_list[i]),math.sqrt(square_list[j]))\n",
        "  return False,'thing'\n"
      ]
    },
    {
      "cell_type": "code",
      "source": [
        "while True:\n",
        "  print('type the number you want to test to see if it can be put on a grid with all vertices on a point divisable by 1')\n",
        "  print('type exit to exit')\n",
        "  num = input('type the number: ')\n",
        "  if num == 'exit':\n",
        "    break\n",
        "  else:\n",
        "    num = int(num)\n",
        "    res = check_grid(num)\n",
        "    if check_square(num) == 'yes':\n",
        "      print('yes! its a square!')\n",
        "      f = plt.figure()\n",
        "      f.set_figwidth(num/3)\n",
        "      f.set_figheight(num/3)\n",
        "      for i in range(0,num):\n",
        "\n",
        "        plt.scatter([i for x in range(0,num)],[x for x in range(0,num)])\n",
        "      plt.plot([0,math.sqrt(num)],[0,0])\n",
        "      plt.plot([0,0],[0,math.sqrt(num)])\n",
        "      plt.plot([math.sqrt(num),math.sqrt(num)],[math.sqrt(num),0])\n",
        "      plt.plot([math.sqrt(num),0],[math.sqrt(num),math.sqrt(num)])\n",
        "      plt.show()\n",
        "    elif res[0]:\n",
        "      f = plt.figure()\n",
        "      f.set_figwidth(num/3)\n",
        "      f.set_figheight(num/3)\n",
        "      for i in range(0,num):\n",
        "        plt.scatter([i for x in range(0,num)],[x for x in range(0,num)])\n",
        "      \n",
        "      plt.plot([0,res[1][0]],[0,res[1][1]])\n",
        "      plt.plot([res[1][0],res[1][0]+res[1][1]],[res[1][1],res[1][1]-res[1][0]])\n",
        "      plt.plot([0,res[1][1]],[0,-res[1][0]])\n",
        "      plt.plot([res[1][1],res[1][0]+res[1][1]],[-res[1][0],res[1][1]-res[1][0]])\n",
        "      plt.show()\n",
        "      print(f'yep and the sides for the triangle you are going to use to draw it is {res[1][0]} and {res[1][1]}')\n",
        "    else:\n",
        "      print('nope it cant')"
      ],
      "metadata": {
        "id": "0J34gkT6xBxZ"
      },
      "execution_count": null,
      "outputs": []
    }
  ]
}